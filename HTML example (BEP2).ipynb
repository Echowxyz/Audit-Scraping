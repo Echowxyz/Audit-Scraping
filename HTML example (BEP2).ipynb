{
 "cells": [
  {
   "cell_type": "code",
   "execution_count": null,
   "metadata": {},
   "outputs": [],
   "source": [
    "#importing libraries\n",
    "import html2text\n",
    "from bs4 import BeautifulSoup\n",
    "from selenium import webdriver \n",
    "import pandas as pd \n",
    "import requests\n",
    "from lxml import html\n",
    "from selenium.webdriver.common.by import By\n",
    "import numpy as np\n",
    "import itertools\n",
    "from itertools import zip_longest\n",
    "import time \n",
    "\n",
    "headers = {'User-Agent': 'Mozilla/5.0 (Windows NT 10.0; Win64; x64) AppleWebKit/537.36 (KHTML, like Gecko) Chrome/83.0.4103.61 Safari/537.36'}\n",
    "\n",
    "driver = webdriver.Chrome()\n",
    "\n",
    "#Getting all transaction hashes - scrape main address page \n",
    "page = driver.get('https://binance.mintscan.io/account/')\n",
    "time.sleep(10)\n",
    "subpage = driver.page_source\n",
    "subpagesoup = BeautifulSoup(subpage, 'html.parser')\n",
    "    \n",
    "urls = []\n",
    "tables = subpagesoup.find_all('table')\n",
    "for table in tables: \n",
    "    #scrape by href to get all weblinks with txs. not possible to get txid by text due to text truncation in java\n",
    "    data = table.find_all(href = True)\n",
    "    for links in data:\n",
    "        if '/txs' in links['href']: \n",
    "            #create list of tx urls \n",
    "            urls.append('https://binance.mintscan.io' + links['href'])\n",
    "txsum =[]\n",
    "for url in urls: \n",
    "    page = driver.get(url)\n",
    "    time.sleep(10)\n",
    "    subpage = driver.page_source\n",
    "    subpagesoup2 = BeautifulSoup(subpage, 'html.parser')\n",
    "    #scrape by tage 'li', finding pattern in tx url pages\n",
    "    data = subpagesoup2.find_all('li')\n",
    "    TxHash = data[1].text\n",
    "    Status = data[3].text\n",
    "    date = data[7].text\n",
    "    Receiveraddress = data[9].text\n",
    "    Value = data[11].text\n",
    "    Sender = data[13].text\n",
    "    txsum.append([TxHash, Status, date, Receiveraddress, Sender, Value])\n",
    "    print(url)\n",
    "export = pd.DataFrame(txsum)\n",
    "\n",
    "#formatting dates \n",
    "for index, date in enumerate(export[2]):\n",
    "    date = date.replace('/','')\n",
    "    export[2][index] = date\n",
    "export.to_csv()\n",
    "\n",
    "\n"
   ]
  }
 ],
 "metadata": {
  "interpreter": {
   "hash": "aee8b7b246df8f9039afb4144a1f6fd8d2ca17a180786b69acc140d282b71a49"
  },
  "kernelspec": {
   "display_name": "Python 3.10.1 64-bit",
   "language": "python",
   "name": "python3"
  },
  "language_info": {
   "codemirror_mode": {
    "name": "ipython",
    "version": 3
   },
   "file_extension": ".py",
   "mimetype": "text/x-python",
   "name": "python",
   "nbconvert_exporter": "python",
   "pygments_lexer": "ipython3",
   "version": "3.10.1"
  },
  "orig_nbformat": 4
 },
 "nbformat": 4,
 "nbformat_minor": 2
}
